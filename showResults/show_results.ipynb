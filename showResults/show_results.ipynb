{
 "cells": [
  {
   "cell_type": "markdown",
   "metadata": {},
   "source": [
    "<h1>Results Script</h1>"
   ]
  },
  {
   "cell_type": "code",
   "execution_count": null,
   "metadata": {},
   "outputs": [],
   "source": [
    "#import libraries and setup\n",
    "import torch\n",
    "from torchvision import transforms\n",
    "import torch.utils.data as data\n",
    "import matplotlib.pyplot as plt\n",
    "import seaborn as sns\n",
    "from sklearn.metrics import accuracy_score, confusion_matrix, classification_report\n",
    "import pandas as pd\n",
    "import numpy as np\n",
    "from PIL import Image\n",
    "from networks.dan import DAN\n",
    "import os\n",
    "\n",
    "%matplotlib inline"
   ]
  },
  {
   "cell_type": "markdown",
   "metadata": {},
   "source": [
    "<h3>Functions Definitions</h3>"
   ]
  },
  {
   "cell_type": "code",
   "execution_count": null,
   "metadata": {},
   "outputs": [],
   "source": [
    "## create the tensor for the images as used in the fer2013train.py file \n",
    "data_transforms_val = transforms.Compose([\n",
    "    transforms.Resize((224, 224)),\n",
    "    transforms.ToTensor(),\n",
    "    transforms.Normalize(mean=[0.485, 0.456, 0.406],\n",
    "                                std=[0.229, 0.224, 0.225])])  \n",
    "\n",
    "#create the data set as made in the fer2013train.py file \n",
    "\n",
    "fer2013_path = 'datasets/fer2013'\n",
    "\n",
    "\n",
    "class RafDataSet(data.Dataset):\n",
    "    def __init__(self, fer2013_path, phase, transform = None):\n",
    "        self.phase = phase\n",
    "        self.transform = transform\n",
    "        self.fer2013_path = fer2013_path\n",
    "\n",
    "        df = pd.read_csv(os.path.join(self.fer2013_path, 'EmoLabel/ferEmoLabellist.txt'), sep=' ', header=None,names=['name','label'])\n",
    "\n",
    "        if phase == 'train':\n",
    "            self.data = df[df['name'].str.startswith('Train')]\n",
    "        else:\n",
    "            self.data = df[df['name'].str.startswith('Test')]\n",
    "\n",
    "        file_names = self.data.loc[:, 'name'].values\n",
    "        self.label = self.data.loc[:, 'label'].values - 1 # 0:Surprise, 1:Fear, 2:Disgust, 3:Happiness, 4:Sadness, 5:Anger, 6:Neutral\n",
    "\n",
    "        _, self.sample_counts = np.unique(self.label, return_counts=True)\n",
    "        # print(f' distribution of {phase} samples: {self.sample_counts}')\n",
    "\n",
    "        self.file_paths = []\n",
    "        for f in file_names:\n",
    "            f = f.split(\".\")[0]\n",
    "            f = f +\".jpg\"\n",
    "            path = os.path.join(self.fer2013_path, 'images/', f)\n",
    "            self.file_paths.append(path)\n",
    "\n",
    "    def __len__(self):\n",
    "        return len(self.file_paths)\n",
    "\n",
    "    def __getitem__(self, idx):\n",
    "        path = self.file_paths[idx]\n",
    "        image = Image.open(path).convert('RGB')\n",
    "        label = self.label[idx]\n",
    "\n",
    "        if self.transform is not None:\n",
    "            image = self.transform(image)\n",
    "        \n",
    "        return image, label\n",
    "    \n",
    "\n",
    "val_dataset = RafDataSet(fer2013_path, phase = 'test', transform = data_transforms_val)   \n",
    "\n",
    "print('Validation set size:', val_dataset.__len__())\n",
    "\n",
    "workers = 4 \n",
    "batch_size = 128\n",
    "\n",
    "val_loader = torch.utils.data.DataLoader(val_dataset,\n",
    "                                            batch_size = batch_size,\n",
    "                                            num_workers = workers,\n",
    "                                            shuffle = False,  \n",
    "                                            pin_memory = True)"
   ]
  },
  {
   "cell_type": "code",
   "execution_count": null,
   "metadata": {},
   "outputs": [],
   "source": [
    "def evaluate_model(model, test_loader):\n",
    "    all_preds = []\n",
    "    all_labels = []\n",
    "    \n",
    "    model.eval()  # Set the model to evaluation mode\n",
    "    with torch.no_grad():\n",
    "        for images, labels in test_loader:  # Loop through batches\n",
    "            predictions = model(images)\n",
    "            _, predicted_labels = torch.max(predictions, 1)\n",
    "            \n",
    "            all_preds.extend(predicted_labels.cpu().numpy())  # Store predictions\n",
    "            all_labels.extend(labels.cpu().numpy())  # Store actual labels\n",
    "    \n",
    "    accuracy = accuracy_score(all_labels, all_preds)\n",
    "    conf_mat = confusion_matrix(all_labels, all_preds)\n",
    "    class_report = classification_report(all_labels, all_preds, output_dict=True)\n",
    "    \n",
    "    return accuracy, conf_mat, class_report"
   ]
  },
  {
   "cell_type": "code",
   "execution_count": null,
   "metadata": {},
   "outputs": [],
   "source": [
    "model = DAN(num_head=4, num_class=7, pretrained=False)\n",
    "checkpoint = torch.load('./results/fer2013-batch256/fer2013_epoch36_acc0.7079_bacc0.6905.pth')\n",
    "model.load_state_dict(checkpoint['model_state_dict'],strict=True)\n",
    "\n",
    "accuracy, conf_mat, class_report= evaluate_model(model, val_loader)"
   ]
  },
  {
   "cell_type": "code",
   "execution_count": null,
   "metadata": {},
   "outputs": [],
   "source": [
    "# 1. Plot model accuracies for comparison\n",
    "plt.figure(figsize=(10, 6))\n",
    "plt.bar(DAN, accuracy, color='skyblue')\n",
    "plt.ylabel('Accuracy')\n",
    "plt.title('Model Comparison: Accuracy on Test Data')\n",
    "plt.xticks(rotation=45)\n",
    "plt.show()\n",
    "\n",
    "# 2. Plot Confusion Matrices\n",
    "\n",
    "plt.figure(figsize=(8, 6))\n",
    "sns.heatmap(conf_mat, annot=True, fmt='d', cmap='Blues')\n",
    "plt.title(f'Confusion Matrix: Dan')\n",
    "plt.ylabel('Actual')\n",
    "plt.xlabel('Predicted')\n",
    "plt.show()\n",
    "\n",
    "\n",
    "class_report_df = pd.DataFrame(class_report).transpose()\n",
    "print(f'Classification Report for dan:')\n",
    "print(class_report_df)"
   ]
  }
 ],
 "metadata": {
  "language_info": {
   "name": "python"
  }
 },
 "nbformat": 4,
 "nbformat_minor": 2
}
